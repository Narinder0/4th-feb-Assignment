{
 "cells": [
  {
   "cell_type": "code",
   "execution_count": 12,
   "id": "1da26ebf-ecfc-457e-a7be-247540669ca8",
   "metadata": {},
   "outputs": [],
   "source": [
    "''' 1st question'''\n",
    "players = [('Sachin Tendulkar', 34357), ('Ricky Ponting', 27483), ('Jack Kallis', 25534), ('Virat Kohli', 24936)]\n",
    "sorted_players = sorted(players,key = lambda x: x[1])"
   ]
  },
  {
   "cell_type": "code",
   "execution_count": 13,
   "id": "65370b5d-01a1-4bde-b1fe-c60aa21471c6",
   "metadata": {},
   "outputs": [
    {
     "name": "stdout",
     "output_type": "stream",
     "text": [
      "[('Virat Kohli', 24936), ('Jack Kallis', 25534), ('Ricky Ponting', 27483), ('Sachin Tendulkar', 34357)]\n"
     ]
    }
   ],
   "source": [
    "print(sorted_players)"
   ]
  },
  {
   "cell_type": "code",
   "execution_count": 37,
   "id": "0d62062b-259a-4c1e-8c81-f88d35aec8a6",
   "metadata": {},
   "outputs": [],
   "source": [
    "''' 2nd question lambda function and map function'''\n",
    "l=[1, 2, 3, 4, 5, 6, 7, 8, 9, 10]\n",
    "a = list(map(lambda x : x**2,l))"
   ]
  },
  {
   "cell_type": "code",
   "execution_count": 38,
   "id": "eb6aec03-9d36-49b9-8e28-5e9b0e738f8b",
   "metadata": {},
   "outputs": [
    {
     "name": "stdout",
     "output_type": "stream",
     "text": [
      "[1, 4, 9, 16, 25, 36, 49, 64, 81, 100]\n"
     ]
    }
   ],
   "source": [
    "print(a)"
   ]
  },
  {
   "cell_type": "code",
   "execution_count": 39,
   "id": "1458fe4f-0e98-472e-ad7b-940cc3107e89",
   "metadata": {},
   "outputs": [],
   "source": [
    "''' 3rd question'''\n",
    "s = [1, 2, 3, 4, 5, 6, 7, 8, 9, 10]\n",
    "string = tuple(map(lambda x : str(x),s))"
   ]
  },
  {
   "cell_type": "code",
   "execution_count": 40,
   "id": "32a72230-41c2-4fef-8273-6c1eacd1d158",
   "metadata": {},
   "outputs": [
    {
     "name": "stdout",
     "output_type": "stream",
     "text": [
      "('1', '2', '3', '4', '5', '6', '7', '8', '9', '10')\n"
     ]
    }
   ],
   "source": [
    "print(string)"
   ]
  },
  {
   "cell_type": "code",
   "execution_count": 45,
   "id": "3cd927a1-d94e-484f-b937-61ff3127e51c",
   "metadata": {},
   "outputs": [],
   "source": [
    "''' 4th question'''\n",
    "c = [i for i in range(1,26)]"
   ]
  },
  {
   "cell_type": "code",
   "execution_count": 46,
   "id": "c84df052-ba82-475d-8056-61b1a5e315d2",
   "metadata": {},
   "outputs": [
    {
     "name": "stdout",
     "output_type": "stream",
     "text": [
      "[1, 2, 3, 4, 5, 6, 7, 8, 9, 10, 11, 12, 13, 14, 15, 16, 17, 18, 19, 20, 21, 22, 23, 24, 25]\n"
     ]
    }
   ],
   "source": [
    "print(c)"
   ]
  },
  {
   "cell_type": "code",
   "execution_count": 41,
   "id": "929bc9e7-1f52-4ceb-a436-424f4de4a859",
   "metadata": {},
   "outputs": [],
   "source": [
    "from functools import reduce"
   ]
  },
  {
   "cell_type": "code",
   "execution_count": 49,
   "id": "a29f13e6-d50c-43c1-8e9e-99d9b3934304",
   "metadata": {},
   "outputs": [],
   "source": [
    "product=reduce(lambda x,y : x*y,c)"
   ]
  },
  {
   "cell_type": "code",
   "execution_count": 50,
   "id": "f9f20a02-1c6e-437f-927f-359cc4f5adba",
   "metadata": {},
   "outputs": [
    {
     "name": "stdout",
     "output_type": "stream",
     "text": [
      "15511210043330985984000000\n"
     ]
    }
   ],
   "source": [
    "print(product)"
   ]
  },
  {
   "cell_type": "code",
   "execution_count": 54,
   "id": "f405da80-5dc9-4224-97ff-7000d88f1f61",
   "metadata": {},
   "outputs": [],
   "source": [
    "''' \n",
    "n = [2, 3, 6, 9, 27, 60, 90, 120, 55, 46]\n",
    "filtering = list(filter(lambda x : x % 2 ==0 and x % 3 ==0,n))"
   ]
  },
  {
   "cell_type": "code",
   "execution_count": 55,
   "id": "6521b2df-db02-44d7-ad62-688f4cfb214c",
   "metadata": {},
   "outputs": [
    {
     "name": "stdout",
     "output_type": "stream",
     "text": [
      "[6, 60, 90, 120]\n"
     ]
    }
   ],
   "source": [
    "print(filtering)"
   ]
  },
  {
   "cell_type": "code",
   "execution_count": 58,
   "id": "1c97db67-81fe-429f-b9ca-fb9556f9eef3",
   "metadata": {},
   "outputs": [],
   "source": [
    "s = ['python', 'php', 'aba', 'radar', 'level']\n",
    "palindromes = list(filter(lambda s : s == s[::-1],s))"
   ]
  },
  {
   "cell_type": "code",
   "execution_count": 59,
   "id": "5a5f2c63-dc92-4865-a171-05128bffa10a",
   "metadata": {},
   "outputs": [
    {
     "name": "stdout",
     "output_type": "stream",
     "text": [
      "['php', 'aba', 'radar', 'level']\n"
     ]
    }
   ],
   "source": [
    "print(palindromes)"
   ]
  },
  {
   "cell_type": "code",
   "execution_count": null,
   "id": "ab38b874-1511-415e-bf9a-f2bc58b3e796",
   "metadata": {},
   "outputs": [],
   "source": []
  }
 ],
 "metadata": {
  "kernelspec": {
   "display_name": "Python 3 (ipykernel)",
   "language": "python",
   "name": "python3"
  },
  "language_info": {
   "codemirror_mode": {
    "name": "ipython",
    "version": 3
   },
   "file_extension": ".py",
   "mimetype": "text/x-python",
   "name": "python",
   "nbconvert_exporter": "python",
   "pygments_lexer": "ipython3",
   "version": "3.10.8"
  }
 },
 "nbformat": 4,
 "nbformat_minor": 5
}
